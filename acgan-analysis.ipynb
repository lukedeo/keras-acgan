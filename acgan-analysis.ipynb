{
 "cells": [
  {
   "cell_type": "markdown",
   "metadata": {},
   "source": [
    "# Understanding AC-GANs in Keras\n",
    "\n",
    "Luke de Oliveira (`lukedeo@vaitech.io`)\n",
    "\n",
    "### Background\n",
    "Auxiliary Classifier Generative Adversarial Networks (AC-GANs for short), [introduced by Odena, et al.](https://arxiv.org/abs/1610.09585), are an extension of the GAN framework proposed by [Goodfellow, et al.](https://arxiv.org/abs/1406.2661) in 2014. TL;DR, an AC-GAN makes the latent $z$ space conditional upon a class label, and forces the generator network to jointly learn to identify fake from non-fake images as well the task of correctly identifying the class of the image, fake or not. In not-too-hard-to-understand math, we have that the generator takes as input a latent vector and a class and produces an image in image-space, $\\mathcal{I}$. \n",
    "\n",
    "$$\n",
    "g: (z, \\ell) \\longrightarrow M\n",
    "$$\n",
    "\n",
    "Where $z\\in\\mathbb{R}^D$, $M\\in\\mathcal{I}$, and $\\ell\\in\\mathcal{L}$, the space of labels.\n",
    "\n",
    "To ground what \"image space\" means, note that for MNIST, $\\mathcal{I}\\subset (\\mathbb{N}\\cup {0})^{28 \\times 28}$, i.e., 28 x 28 `uint8`s.\n",
    "\n",
    "In this setup, the discriminator performs the following mapping\n",
    "\n",
    "$$\n",
    "d: M \\longrightarrow (f, h_{\\ell})\n",
    "$$\n",
    "\n",
    "Where $M\\in\\mathcal{I}$, $f\\in\\{0, 1\\}$ is whether or not $M$ is considered to be fake or not, and $h_{\\ell}\\in\\mathcal{L}$ is the hypothesized label that was fed to $g$.\n",
    "\n",
    "In a pretty picture, this looks like this (look at the far right):\n",
    "\n",
    "![GAN Diagram](https://pbs.twimg.com/media/CwM0BzjVUAAWTn4.jpg:large \"Space of GANS (AC-GAN on the right)\")\n"
   ]
  },
  {
   "cell_type": "markdown",
   "metadata": {},
   "source": [
    "### Understanding AC-GANs\n",
    "\n",
    "Consult [the MNIST example](./mnist_acgan.py) for training and setup the models required for the set up. I'm going to assume you've run the example, have a bunch of HDF5 files lying around, as well as a file called `acgan-history.pkl`, which contains, you guessed it, the training history from the GAN. The two competing nets in the GAN world are competing for an equilibrium (in the game theoretic sense) so it makes sense to look at how the loss functions look in comparison to the Nash Equilibrium (consult [this paper](https://arxiv.org/pdf/1406.2661v1.pdf) for the derivation of the Nash Equilibrium).\n",
    "\n",
    "**To run through this notebook, you'll need Python 2 or 3, numpy, matplotlib, pandas, and Keras.**"
   ]
  },
  {
   "cell_type": "code",
   "execution_count": 39,
   "metadata": {},
   "outputs": [],
   "source": [
    "import _pickle as pickle\n",
    "import matplotlib.pyplot as plt\n",
    "import numpy as np\n",
    "import pandas as pd"
   ]
  },
  {
   "cell_type": "code",
   "execution_count": 40,
   "metadata": {
    "collapsed": true
   },
   "outputs": [],
   "source": [
    "%matplotlib inline"
   ]
  },
  {
   "cell_type": "code",
   "execution_count": 41,
   "metadata": {},
   "outputs": [],
   "source": [
    "hist = pickle.load(open('./acgan-history.pkl', \"rb\"))"
   ]
  },
  {
   "cell_type": "code",
   "execution_count": 42,
   "metadata": {},
   "outputs": [],
   "source": [
    "losses = ['loss', 'generation_loss', 'auxiliary_loss']"
   ]
  },
  {
   "cell_type": "code",
   "execution_count": 43,
   "metadata": {},
   "outputs": [],
   "source": [
    "for p in ['train', 'test']:\n",
    "    for g in ['discriminator', 'generator']:\n",
    "        hist[p][g] = pd.DataFrame(hist[p][g], columns=losses)"
   ]
  },
  {
   "cell_type": "markdown",
   "metadata": {},
   "source": [
    "First, we'll look at the generation loss, i.e., the loss associated with tricking the discriminator into thinking that a fake image is a real image."
   ]
  },
  {
   "cell_type": "code",
   "execution_count": 44,
   "metadata": {
    "scrolled": true
   },
   "outputs": [
    {
     "data": {
      "text/plain": [
       "<matplotlib.text.Text at 0x7fec9db846a0>"
      ]
     },
     "execution_count": 44,
     "metadata": {},
     "output_type": "execute_result"
    },
    {
     "data": {
      "image/png": "[encoded data removed]",
      "text/plain": [
       "<matplotlib.figure.Figure at 0x7fec9dbebf98>"
      ]
     },
     "metadata": {},
     "output_type": "display_data"
    }
   ],
   "source": [
    "for p in ['train', 'test']:\n",
    "    for g in ['discriminator', 'generator']:\n",
    "        plt.plot(hist[p][g]['generation_loss'], label='{} ({})'.format(g, p))\n",
    "\n",
    "# get the NE and show as an equilibrium point\n",
    "plt.hlines(-np.log(0.5), 0, hist[p][g]['generation_loss'].shape[0], label='Nash Equilibrium')\n",
    "plt.legend()\n",
    "plt.title(r'$L_s$ (generation loss) per Epoch')\n",
    "plt.xlabel('Epoch')\n",
    "plt.ylabel(r'$L_s$')"
   ]
  },
  {
   "cell_type": "markdown",
   "metadata": {},
   "source": [
    "We can see above that at the ~15th or so Epoch, the training losses have converged to the Nash Equilibrium point. We see some shaky behavior from the test loss on the generator, but this is to be expected."
   ]
  },
  {
   "cell_type": "markdown",
   "metadata": {},
   "source": [
    "Now, let's look at the auxiliary loss, i.e., loss associated with the discriminator getting the correct label. Note that both networks are trying to *minimize* this quantity."
   ]
  },
  {
   "cell_type": "code",
   "execution_count": 45,
   "metadata": {},
   "outputs": [
    {
     "data": {
      "text/plain": [
       "[]"
      ]
     },
     "execution_count": 45,
     "metadata": {},
     "output_type": "execute_result"
    },
    {
     "data": {
      "image/png": "[encoded data removed]",
      "text/plain": [
       "<matplotlib.figure.Figure at 0x7fec9db8de48>"
      ]
     },
     "metadata": {},
     "output_type": "display_data"
    }
   ],
   "source": [
    "for g in ['discriminator', 'generator']:\n",
    "    for p in ['train', 'test']:\n",
    "        plt.plot(hist[p][g]['auxiliary_loss'], label='{} ({})'.format(g, p))\n",
    "\n",
    "plt.legend()\n",
    "plt.title(r'$L_c$ (classification loss) per Epoch')\n",
    "plt.xlabel('Epoch')\n",
    "plt.ylabel(r'$L_c$')\n",
    "plt.semilogy()"
   ]
  },
  {
   "cell_type": "markdown",
   "metadata": {},
   "source": [
    "### GAN output"
   ]
  },
  {
   "cell_type": "markdown",
   "metadata": {},
   "source": [
    "Let's  take a look at the output of the generator to see what the digits look like."
   ]
  },
  {
   "cell_type": "code",
   "execution_count": 46,
   "metadata": {},
   "outputs": [],
   "source": [
    "from mnist_acgan import build_generator, build_discriminator\n",
    "from glob import glob\n",
    "\n",
    "latent_size = 100"
   ]
  },
  {
   "cell_type": "code",
   "execution_count": 47,
   "metadata": {},
   "outputs": [
    {
     "name": "stderr",
     "output_type": "stream",
     "text": [
      "/home/nsi/python/source/keras-acgan/mnist_acgan.py:66: UserWarning: Update your `Conv2D` call to the Keras 2 API: `Conv2D(256, (5, 5), activation=\"relu\", padding=\"same\", kernel_initializer=\"glorot_normal\")`\n",
      "  activation='relu', init='glorot_normal'))\n",
      "/home/nsi/python/source/keras-acgan/mnist_acgan.py:71: UserWarning: Update your `Conv2D` call to the Keras 2 API: `Conv2D(128, (5, 5), activation=\"relu\", padding=\"same\", kernel_initializer=\"glorot_normal\")`\n",
      "  activation='relu', init='glorot_normal'))\n",
      "/home/nsi/python/source/keras-acgan/mnist_acgan.py:75: UserWarning: Update your `Conv2D` call to the Keras 2 API: `Conv2D(1, (2, 2), activation=\"tanh\", padding=\"same\", kernel_initializer=\"glorot_normal\")`\n",
      "  activation='tanh', init='glorot_normal'))\n",
      "/home/nsi/python/source/keras-acgan/mnist_acgan.py:85: UserWarning: Update your `Embedding` call to the Keras 2 API: `Embedding(10, 100, embeddings_initializer=\"glorot_normal\")`\n",
      "  init='glorot_normal')(image_class))\n",
      "/home/nsi/python/source/keras-acgan/mnist_acgan.py:88: UserWarning: The `merge` function is deprecated and will be removed after 08/2017. Use instead layers from `keras.layers.merge`, e.g. `add`, `concatenate`, etc.\n",
      "  h = merge([latent, cls], mode='mul')\n",
      "/home/nsi/.pyenv/versions/anaconda3-4.4.0/lib/python3.6/site-packages/keras/legacy/layers.py:458: UserWarning: The `Merge` layer is deprecated and will be removed after 08/2017. Use instead layers from `keras.layers.merge`, e.g. `add`, `concatenate`, etc.\n",
      "  name=name)\n",
      "/home/nsi/python/source/keras-acgan/mnist_acgan.py:92: UserWarning: Update your `Model` call to the Keras 2 API: `Model(inputs=[<tf.Tenso..., outputs=Tensor(\"se...)`\n",
      "  return Model(input=[latent, image_class], output=fake_image)\n"
     ]
    }
   ],
   "source": [
    "g = build_generator(latent_size)"
   ]
  },
  {
   "cell_type": "code",
   "execution_count": 48,
   "metadata": {},
   "outputs": [],
   "source": [
    "# load the weights from the last epoch\n",
    "from file_utility.file_utility import *\n",
    "files = [i for i in read_child_files_name(\"./generator_params\") if is_file_extension(i, \".hdf5\")]\n",
    "files.sort()\n",
    "g.load_weights(\"./generator_params/\" + files[-1])"
   ]
  },
  {
   "cell_type": "markdown",
   "metadata": {},
   "source": [
    "We will make a 10 x 10 grid of generated MNIST digits, where each row is one sampling of $z$, and each column is that same latend vector, just conditioned by the associated digit."
   ]
  },
  {
   "cell_type": "code",
   "execution_count": 49,
   "metadata": {},
   "outputs": [],
   "source": [
    "np.random.seed(31337)\n",
    "\n",
    "noise = np.tile(np.random.uniform(-1, 1, (10, latent_size)), (10, 1))\n",
    "sampled_labels = np.array([\n",
    "    [i] * 10 for i in range(10)\n",
    "]).reshape(-1, 1)\n",
    "\n",
    "# get a batch to display\n",
    "generated_images = g.predict(\n",
    "    [noise, sampled_labels], verbose=0)\n",
    "\n",
    "# arrange them into a grid\n",
    "img = (np.concatenate([r.reshape(-1, 28)\n",
    "                       for r in np.split(generated_images, 10)\n",
    "                       ], axis=-1) * 127.5 + 127.5).astype(np.uint8)\n"
   ]
  },
  {
   "cell_type": "code",
   "execution_count": 50,
   "metadata": {},
   "outputs": [
    {
     "data": {
      "image/png": "[encoded data removed]",
      "text/plain": [
       "<matplotlib.figure.Figure at 0x7fec9d86fe80>"
      ]
     },
     "metadata": {},
     "output_type": "display_data"
    }
   ],
   "source": [
    "plt.imshow(img, cmap='gray')#, interpolation='nearest')\n",
    "_ = plt.axis('off')"
   ]
  },
  {
   "cell_type": "code",
   "execution_count": 51,
   "metadata": {
    "collapsed": true
   },
   "outputs": [],
   "source": [
    "def make_digit(digit=None):\n",
    "    noise = np.random.uniform(-1, 1, (1, latent_size))\n",
    "\n",
    "    sampled_label = np.array([\n",
    "            digit if digit is not None else np.random.randint(0, 10, 1)\n",
    "        ]).reshape(-1, 1)\n",
    "\n",
    "    generated_image = g.predict(\n",
    "        [noise, sampled_label], verbose=0)\n",
    "\n",
    "    return np.squeeze((generated_image * 127.5 + 127.5).astype(np.uint8))"
   ]
  },
  {
   "cell_type": "code",
   "execution_count": 52,
   "metadata": {},
   "outputs": [
    {
     "data": {
      "image/png": "[encoded data removed]",
      "text/plain": [
       "<matplotlib.figure.Figure at 0x7fec9d75ee48>"
      ]
     },
     "metadata": {},
     "output_type": "display_data"
    }
   ],
   "source": [
    "plt.imshow(make_digit(digit=8), cmap='gray_r', interpolation='nearest')\n",
    "_ = plt.axis('off')"
   ]
  },
  {
   "cell_type": "code",
   "execution_count": null,
   "metadata": {
    "collapsed": true
   },
   "outputs": [],
   "source": []
  }
 ],
 "metadata": {
  "anaconda-cloud": {},
  "kernelspec": {
   "display_name": "Python 3",
   "language": "python",
   "name": "python3"
  },
  "language_info": {
   "codemirror_mode": {
    "name": "ipython",
    "version": 3
   },
   "file_extension": ".py",
   "mimetype": "text/x-python",
   "name": "python",
   "nbconvert_exporter": "python",
   "pygments_lexer": "ipython3",
   "version": "3.6.1"
  }
 },
 "nbformat": 4,
 "nbformat_minor": 1
}
